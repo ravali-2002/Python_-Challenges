{
 "cells": [
  {
   "cell_type": "code",
   "execution_count": null,
   "id": "c7393546-b6b8-4abc-9f39-bd4346ded100",
   "metadata": {},
   "outputs": [],
   "source": [
    "\n",
    "## Write a Python program to find common elements from two lists without using set(). Returns the output list."
   ]
  },
  {
   "cell_type": "code",
   "execution_count": 3,
   "id": "cb65e7c9-7329-4e8d-bcc4-32eaa280db52",
   "metadata": {},
   "outputs": [
    {
     "data": {
      "text/plain": [
       "[1, 2]"
      ]
     },
     "execution_count": 3,
     "metadata": {},
     "output_type": "execute_result"
    }
   ],
   "source": [
    "list1=[1,2,3,4,5]\n",
    "list2=[1,2,6,7,8]\n",
    "def common_ele(l1,l2):\n",
    "    res=[]\n",
    "    for i in l1:\n",
    "        if i in l2:\n",
    "            res.append(i)\n",
    "    return res\n",
    "common_ele(list1,list2)"
   ]
  },
  {
   "cell_type": "code",
   "execution_count": null,
   "id": "80fac486-d2e7-474f-b493-37d036412cf2",
   "metadata": {},
   "outputs": [],
   "source": []
  },
  {
   "cell_type": "code",
   "execution_count": null,
   "id": "df7e079a-b1fc-4710-93e4-242a0d84adbb",
   "metadata": {},
   "outputs": [],
   "source": []
  }
 ],
 "metadata": {
  "kernelspec": {
   "display_name": "Python 3 (ipykernel)",
   "language": "python",
   "name": "python3"
  },
  "language_info": {
   "codemirror_mode": {
    "name": "ipython",
    "version": 3
   },
   "file_extension": ".py",
   "mimetype": "text/x-python",
   "name": "python",
   "nbconvert_exporter": "python",
   "pygments_lexer": "ipython3",
   "version": "3.11.7"
  }
 },
 "nbformat": 4,
 "nbformat_minor": 5
}
