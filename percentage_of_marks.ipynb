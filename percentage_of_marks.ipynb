{
 "cells": [
  {
   "cell_type": "markdown",
   "id": "aefd2954-1510-4827-a943-6fb4f177aa4b",
   "metadata": {},
   "source": [
    " ## Challenge : Calculate the % Marks for each student. Each subject is of 100 marks. Create a result column by following the below condition "
   ]
  },
  {
   "cell_type": "markdown",
   "id": "7c5016db-eeec-4336-865d-2e8c8b56c903",
   "metadata": {},
   "source": [
    "1. % Marks greater than or euqal to 70 then 'Distinction'\r\n",
    " 2. % Marks range between 60-69 then 'First Class'\r\n",
    " 3. % Marks range between 50-59 then 'Second Class'\r\n",
    " 4. % Marks range between 40-49 then 'Third Class'\r\n",
    " 5. % Marks Less than or equal to 39 then 'Fail'\r\n"
   ]
  },
  {
   "cell_type": "code",
   "execution_count": 1,
   "id": "8d0d93f4-873a-4df7-ad46-99bc9a87261f",
   "metadata": {},
   "outputs": [],
   "source": [
    "# importing required libraries\n",
    "import pandas as pd"
   ]
  },
  {
   "cell_type": "code",
   "execution_count": 2,
   "id": "8d60972c-28c4-4a80-ac0a-f0358119c769",
   "metadata": {},
   "outputs": [],
   "source": [
    "# creating dataframes\n",
    "students=pd.DataFrame()\n",
    "students['student_id']=[1,2,3]\n",
    "students['student_name']=['Steve','David','Aryan']\n",
    "\n",
    "# creating table marks\n",
    "marks=pd.DataFrame()\n",
    "marks['student_id']=[1,1,2,2,3,3]\n",
    "marks['subject_name']=['pyspark','SQL','SQL','pyspark','SQL','pyspark']\n",
    "marks['marks']=[90,100,70,60,30,20]"
   ]
  },
  {
   "cell_type": "code",
   "execution_count": 3,
   "id": "1a5fd171-7ad4-413c-8e81-5189ab1b90a2",
   "metadata": {},
   "outputs": [
    {
     "data": {
      "text/html": [
       "<div>\n",
       "<style scoped>\n",
       "    .dataframe tbody tr th:only-of-type {\n",
       "        vertical-align: middle;\n",
       "    }\n",
       "\n",
       "    .dataframe tbody tr th {\n",
       "        vertical-align: top;\n",
       "    }\n",
       "\n",
       "    .dataframe thead th {\n",
       "        text-align: right;\n",
       "    }\n",
       "</style>\n",
       "<table border=\"1\" class=\"dataframe\">\n",
       "  <thead>\n",
       "    <tr style=\"text-align: right;\">\n",
       "      <th></th>\n",
       "      <th>student_id</th>\n",
       "      <th>student_name</th>\n",
       "    </tr>\n",
       "  </thead>\n",
       "  <tbody>\n",
       "    <tr>\n",
       "      <th>0</th>\n",
       "      <td>1</td>\n",
       "      <td>Steve</td>\n",
       "    </tr>\n",
       "    <tr>\n",
       "      <th>1</th>\n",
       "      <td>2</td>\n",
       "      <td>David</td>\n",
       "    </tr>\n",
       "    <tr>\n",
       "      <th>2</th>\n",
       "      <td>3</td>\n",
       "      <td>Aryan</td>\n",
       "    </tr>\n",
       "  </tbody>\n",
       "</table>\n",
       "</div>"
      ],
      "text/plain": [
       "   student_id student_name\n",
       "0           1        Steve\n",
       "1           2        David\n",
       "2           3        Aryan"
      ]
     },
     "execution_count": 3,
     "metadata": {},
     "output_type": "execute_result"
    }
   ],
   "source": [
    "# students table\n",
    "students"
   ]
  },
  {
   "cell_type": "code",
   "execution_count": 4,
   "id": "0488f6b3-73a1-41f6-9c6c-78957b22ed21",
   "metadata": {},
   "outputs": [
    {
     "data": {
      "text/html": [
       "<div>\n",
       "<style scoped>\n",
       "    .dataframe tbody tr th:only-of-type {\n",
       "        vertical-align: middle;\n",
       "    }\n",
       "\n",
       "    .dataframe tbody tr th {\n",
       "        vertical-align: top;\n",
       "    }\n",
       "\n",
       "    .dataframe thead th {\n",
       "        text-align: right;\n",
       "    }\n",
       "</style>\n",
       "<table border=\"1\" class=\"dataframe\">\n",
       "  <thead>\n",
       "    <tr style=\"text-align: right;\">\n",
       "      <th></th>\n",
       "      <th>student_id</th>\n",
       "      <th>subject_name</th>\n",
       "      <th>marks</th>\n",
       "    </tr>\n",
       "  </thead>\n",
       "  <tbody>\n",
       "    <tr>\n",
       "      <th>0</th>\n",
       "      <td>1</td>\n",
       "      <td>pyspark</td>\n",
       "      <td>90</td>\n",
       "    </tr>\n",
       "    <tr>\n",
       "      <th>1</th>\n",
       "      <td>1</td>\n",
       "      <td>SQL</td>\n",
       "      <td>100</td>\n",
       "    </tr>\n",
       "    <tr>\n",
       "      <th>2</th>\n",
       "      <td>2</td>\n",
       "      <td>SQL</td>\n",
       "      <td>70</td>\n",
       "    </tr>\n",
       "    <tr>\n",
       "      <th>3</th>\n",
       "      <td>2</td>\n",
       "      <td>pyspark</td>\n",
       "      <td>60</td>\n",
       "    </tr>\n",
       "    <tr>\n",
       "      <th>4</th>\n",
       "      <td>3</td>\n",
       "      <td>SQL</td>\n",
       "      <td>30</td>\n",
       "    </tr>\n",
       "    <tr>\n",
       "      <th>5</th>\n",
       "      <td>3</td>\n",
       "      <td>pyspark</td>\n",
       "      <td>20</td>\n",
       "    </tr>\n",
       "  </tbody>\n",
       "</table>\n",
       "</div>"
      ],
      "text/plain": [
       "   student_id subject_name  marks\n",
       "0           1      pyspark     90\n",
       "1           1          SQL    100\n",
       "2           2          SQL     70\n",
       "3           2      pyspark     60\n",
       "4           3          SQL     30\n",
       "5           3      pyspark     20"
      ]
     },
     "execution_count": 4,
     "metadata": {},
     "output_type": "execute_result"
    }
   ],
   "source": [
    "# marks table\n",
    "marks"
   ]
  },
  {
   "cell_type": "code",
   "execution_count": 5,
   "id": "71023507-ff0e-4cfc-bb83-dd20c42abcea",
   "metadata": {},
   "outputs": [
    {
     "data": {
      "text/html": [
       "<div>\n",
       "<style scoped>\n",
       "    .dataframe tbody tr th:only-of-type {\n",
       "        vertical-align: middle;\n",
       "    }\n",
       "\n",
       "    .dataframe tbody tr th {\n",
       "        vertical-align: top;\n",
       "    }\n",
       "\n",
       "    .dataframe thead th {\n",
       "        text-align: right;\n",
       "    }\n",
       "</style>\n",
       "<table border=\"1\" class=\"dataframe\">\n",
       "  <thead>\n",
       "    <tr style=\"text-align: right;\">\n",
       "      <th></th>\n",
       "      <th>student_id</th>\n",
       "      <th>student_name</th>\n",
       "      <th>subject_name</th>\n",
       "      <th>marks</th>\n",
       "    </tr>\n",
       "  </thead>\n",
       "  <tbody>\n",
       "    <tr>\n",
       "      <th>0</th>\n",
       "      <td>1</td>\n",
       "      <td>Steve</td>\n",
       "      <td>pyspark</td>\n",
       "      <td>90</td>\n",
       "    </tr>\n",
       "    <tr>\n",
       "      <th>1</th>\n",
       "      <td>1</td>\n",
       "      <td>Steve</td>\n",
       "      <td>SQL</td>\n",
       "      <td>100</td>\n",
       "    </tr>\n",
       "    <tr>\n",
       "      <th>2</th>\n",
       "      <td>2</td>\n",
       "      <td>David</td>\n",
       "      <td>SQL</td>\n",
       "      <td>70</td>\n",
       "    </tr>\n",
       "    <tr>\n",
       "      <th>3</th>\n",
       "      <td>2</td>\n",
       "      <td>David</td>\n",
       "      <td>pyspark</td>\n",
       "      <td>60</td>\n",
       "    </tr>\n",
       "    <tr>\n",
       "      <th>4</th>\n",
       "      <td>3</td>\n",
       "      <td>Aryan</td>\n",
       "      <td>SQL</td>\n",
       "      <td>30</td>\n",
       "    </tr>\n",
       "    <tr>\n",
       "      <th>5</th>\n",
       "      <td>3</td>\n",
       "      <td>Aryan</td>\n",
       "      <td>pyspark</td>\n",
       "      <td>20</td>\n",
       "    </tr>\n",
       "  </tbody>\n",
       "</table>\n",
       "</div>"
      ],
      "text/plain": [
       "   student_id student_name subject_name  marks\n",
       "0           1        Steve      pyspark     90\n",
       "1           1        Steve          SQL    100\n",
       "2           2        David          SQL     70\n",
       "3           2        David      pyspark     60\n",
       "4           3        Aryan          SQL     30\n",
       "5           3        Aryan      pyspark     20"
      ]
     },
     "execution_count": 5,
     "metadata": {},
     "output_type": "execute_result"
    }
   ],
   "source": [
    "# merging 2 dataframes and storing it, in a variable called data\n",
    "data=pd.merge(students,marks)\n",
    "data"
   ]
  },
  {
   "cell_type": "code",
   "execution_count": 6,
   "id": "e3bb850a-224c-48c8-b279-f480110b91db",
   "metadata": {},
   "outputs": [],
   "source": [
    "# calculateing percentage of marks\n",
    "g=data.groupby('student_id')['marks'].sum()/data.groupby('student_id')['subject_name'].count()\n",
    "g1=pd.DataFrame(g,columns=['percentage_']).reset_index()\n",
    "g1['percentage_']=g1['percentage_'].astype(int)   # changing dtype"
   ]
  },
  {
   "cell_type": "code",
   "execution_count": 7,
   "id": "981d0f82-2dd4-4898-b6a3-7034b1ef1269",
   "metadata": {},
   "outputs": [
    {
     "data": {
      "text/plain": [
       "student_id     int64\n",
       "percentage_    int32\n",
       "dtype: object"
      ]
     },
     "execution_count": 7,
     "metadata": {},
     "output_type": "execute_result"
    }
   ],
   "source": [
    "g1.dtypes"
   ]
  },
  {
   "cell_type": "code",
   "execution_count": 8,
   "id": "db27f613-47ac-44b8-b2b8-b5ecbef2a3dd",
   "metadata": {},
   "outputs": [],
   "source": [
    "# merging g1 dataframe with students data\n",
    "d=pd.merge(students,g1)\n",
    "d['result']=0 # creating empty column"
   ]
  },
  {
   "cell_type": "code",
   "execution_count": 9,
   "id": "2691b7f2-b965-4708-a2eb-d637aabaee9c",
   "metadata": {},
   "outputs": [
    {
     "name": "stderr",
     "output_type": "stream",
     "text": [
      "C:\\Users\\Charan\\AppData\\Local\\Temp\\ipykernel_13960\\583785114.py:2: FutureWarning: Setting an item of incompatible dtype is deprecated and will raise in a future error of pandas. Value 'Distinction' has dtype incompatible with int64, please explicitly cast to a compatible dtype first.\n",
      "  d.loc[d['percentage_']>=70,['result']]='Distinction'\n"
     ]
    }
   ],
   "source": [
    "# applying conditions \n",
    "d.loc[d['percentage_']>=70,['result']]='Distinction'\n",
    "d.loc[(d['percentage_']>=60) & (d['percentage_']<=69),['result']]='First class'\n",
    "d.loc[(d['percentage_']>=50) & (d['percentage_']<=59),['result']]='Second class'\n",
    "d.loc[(d['percentage_']>=40) & (d['percentage_']<=49),['result']]='Third class'\n",
    "d.loc[d['percentage_']<40,['result']]='Fail'"
   ]
  },
  {
   "cell_type": "code",
   "execution_count": 10,
   "id": "9c279c03-5c0b-4965-ad2e-c3bd55cd5321",
   "metadata": {},
   "outputs": [
    {
     "data": {
      "text/html": [
       "<div>\n",
       "<style scoped>\n",
       "    .dataframe tbody tr th:only-of-type {\n",
       "        vertical-align: middle;\n",
       "    }\n",
       "\n",
       "    .dataframe tbody tr th {\n",
       "        vertical-align: top;\n",
       "    }\n",
       "\n",
       "    .dataframe thead th {\n",
       "        text-align: right;\n",
       "    }\n",
       "</style>\n",
       "<table border=\"1\" class=\"dataframe\">\n",
       "  <thead>\n",
       "    <tr style=\"text-align: right;\">\n",
       "      <th></th>\n",
       "      <th>student_id</th>\n",
       "      <th>student_name</th>\n",
       "      <th>percentage_</th>\n",
       "      <th>result</th>\n",
       "    </tr>\n",
       "  </thead>\n",
       "  <tbody>\n",
       "    <tr>\n",
       "      <th>0</th>\n",
       "      <td>1</td>\n",
       "      <td>Steve</td>\n",
       "      <td>95</td>\n",
       "      <td>Distinction</td>\n",
       "    </tr>\n",
       "    <tr>\n",
       "      <th>1</th>\n",
       "      <td>2</td>\n",
       "      <td>David</td>\n",
       "      <td>65</td>\n",
       "      <td>First class</td>\n",
       "    </tr>\n",
       "    <tr>\n",
       "      <th>2</th>\n",
       "      <td>3</td>\n",
       "      <td>Aryan</td>\n",
       "      <td>25</td>\n",
       "      <td>Fail</td>\n",
       "    </tr>\n",
       "  </tbody>\n",
       "</table>\n",
       "</div>"
      ],
      "text/plain": [
       "   student_id student_name  percentage_       result\n",
       "0           1        Steve           95  Distinction\n",
       "1           2        David           65  First class\n",
       "2           3        Aryan           25         Fail"
      ]
     },
     "execution_count": 10,
     "metadata": {},
     "output_type": "execute_result"
    }
   ],
   "source": [
    "d  # final output"
   ]
  }
 ],
 "metadata": {
  "kernelspec": {
   "display_name": "Python 3 (ipykernel)",
   "language": "python",
   "name": "python3"
  },
  "language_info": {
   "codemirror_mode": {
    "name": "ipython",
    "version": 3
   },
   "file_extension": ".py",
   "mimetype": "text/x-python",
   "name": "python",
   "nbconvert_exporter": "python",
   "pygments_lexer": "ipython3",
   "version": "3.11.7"
  }
 },
 "nbformat": 4,
 "nbformat_minor": 5
}
